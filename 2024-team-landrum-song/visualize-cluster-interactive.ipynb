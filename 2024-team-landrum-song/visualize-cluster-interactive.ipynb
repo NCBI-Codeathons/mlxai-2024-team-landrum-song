{
 "cells": [
  {
   "cell_type": "code",
   "execution_count": 12,
   "id": "191d8b96",
   "metadata": {},
   "outputs": [
    {
     "name": "stdout",
     "output_type": "stream",
     "text": [
      "Warning: When  cdn_resources is 'local' jupyter notebook has issues displaying graphics on chrome/safari. Use cdn_resources='in_line' or cdn_resources='remote' if you have issues viewing graphics in a notebook.\n",
      "network.html\n"
     ]
    },
    {
     "data": {
      "text/html": [
       "\n",
       "        <iframe\n",
       "            width=\"100%\"\n",
       "            height=\"750px\"\n",
       "            src=\"network.html\"\n",
       "            frameborder=\"0\"\n",
       "            allowfullscreen\n",
       "            \n",
       "        ></iframe>\n",
       "        "
      ],
      "text/plain": [
       "<IPython.lib.display.IFrame at 0x10c51a050>"
      ]
     },
     "execution_count": 12,
     "metadata": {},
     "output_type": "execute_result"
    }
   ],
   "source": [
    "import networkx as nx\n",
    "import matplotlib.pyplot as plt\n",
    "\n",
    "# First, let's load the JSON file to understand its structure\n",
    "import json\n",
    "\n",
    "file_path = 'LDLR_clusters-all-MiniLM-L6-v2.json'\n",
    "\n",
    "# Load the JSON content\n",
    "with open(file_path, 'r') as file:\n",
    "    data = json.load(file)\n",
    "\n",
    "\n",
    "from pyvis.network import Network\n",
    "\n",
    "# Create a new interactive network\n",
    "net = Network(notebook=True, height=\"750px\", width=\"100%\")\n",
    "\n",
    "\n",
    "# Add nodes and edges based on the JSON data structure\n",
    "for group in data:\n",
    "    group_id = group['id']\n",
    "    net.add_node(group_id, label=f\"Group {group_id}\", color='lightblue', size=20)\n",
    "    \n",
    "    for item in group['items']:\n",
    "        item_id = item['id']\n",
    "        item_content = item['content']\n",
    "        net.add_node(item_id, label=item_content, color='lightgreen', size=15)\n",
    "        net.add_edge(group_id, item_id)\n",
    "\n",
    "\n",
    "# Customize the network appearance\n",
    "net.set_options(\"\"\"\n",
    "var options = {\n",
    "  \"nodes\": {\n",
    "    \"font\": {\n",
    "      \"size\": 14\n",
    "    }\n",
    "  },\n",
    "  \"edges\": {\n",
    "    \"color\": {\n",
    "      \"inherit\": true\n",
    "    },\n",
    "    \"smooth\": false\n",
    "  },\n",
    "  \"physics\": {\n",
    "    \"forceAtlas2Based\": {\n",
    "      \"gravitationalConstant\": -26,\n",
    "      \"centralGravity\": 0.005,\n",
    "      \"springLength\": 230,\n",
    "      \"springConstant\": 0.18\n",
    "    },\n",
    "    \"maxVelocity\": 146,\n",
    "    \"solver\": \"forceAtlas2Based\",\n",
    "    \"timestep\": 0.35,\n",
    "    \"stabilization\": {\"iterations\": 150}\n",
    "  }\n",
    "}\n",
    "\"\"\")\n",
    "\n",
    "# Display the network\n",
    "net.show(\"network.html\")\n",
    "\n"
   ]
  },
  {
   "cell_type": "code",
   "execution_count": null,
   "id": "33e48ef6",
   "metadata": {},
   "outputs": [],
   "source": []
  }
 ],
 "metadata": {
  "kernelspec": {
   "display_name": "Python 3 (ipykernel)",
   "language": "python",
   "name": "python3"
  },
  "language_info": {
   "codemirror_mode": {
    "name": "ipython",
    "version": 3
   },
   "file_extension": ".py",
   "mimetype": "text/x-python",
   "name": "python",
   "nbconvert_exporter": "python",
   "pygments_lexer": "ipython3",
   "version": "3.11.5"
  }
 },
 "nbformat": 4,
 "nbformat_minor": 5
}
